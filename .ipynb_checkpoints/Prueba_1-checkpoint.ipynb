{
 "cells": [
  {
   "cell_type": "markdown",
   "metadata": {
    "id": "7vGMRorix7fJ"
   },
   "source": [
    "# **Prueba \\#1**\n",
    "\n",
    "En la siguiente pureba se evalua de manera EXCLUSIVA lo que se solicita, cualquier otra respuesta adicional a ella será valorada, más no evaluada. Entregue la prueba en un repositorio de github antes de el lunes 7 de agosto a las 23:59:59.\n",
    "\n"
   ]
  },
  {
   "cell_type": "markdown",
   "metadata": {
    "id": "2JiTz8I9yhXB"
   },
   "source": [
    "## **Ejercicio 1** (50 pts)\n",
    "\n",
    "Escriba una clase `Pedido` que pueda ser usada para gestionar la información de los pedidos realizados a una pastelería (o carnicería o tienda de ropa o empresa que ud desee). Evite usar módulos como numpy, pandas o cualquier otro.\n",
    "\n",
    "### **Rubrica**:\n",
    "\n",
    "1. Generación de la clase que funcione correctamente con al menos 2 métodos y 2 atributos. **30 pts**.\n",
    "2. Comentarios y  documentación que sirva para quien deba usar la clase. **5 pts**.\n",
    "3. Pertinencia de la clase en el ámbito, ¿Por qué será útil esta herramienta y cómo ayudará a mejorar el negocio? esta será entregada en una celda de texto. **10 pts**.\n",
    "4. ¿Cree que se pueda construir una clase hija que ayude al proceso? Si sí constrúyala, sino, argumente por qué en una célda de código. **5 pts**."
   ]
  },
  {
   "cell_type": "code",
   "execution_count": null,
   "metadata": {
    "id": "AgwS8cBnx5Zc"
   },
   "outputs": [],
   "source": []
  },
  {
   "cell_type": "markdown",
   "metadata": {
    "id": "pnfosm2l12c5"
   },
   "source": [
    "## **Ejercicio 2** (50 pts)\n",
    "\n",
    "Realice los siguientes ejercicios con numpy\n",
    "\n",
    "1. Resolver el siguiente sistema de ecuaciones. **16 pts**\n",
    "\n",
    "$$\n",
    "2x + 3y - z + 4w + 5v = 15\n",
    "$$\n",
    "\n",
    "$$\n",
    "x - 2y + 4z - 3w + v = 6\n",
    "$$\n",
    "\n",
    "$$\n",
    "3x + 2y - 3z + 5w - 2v = 11\n",
    "$$\n",
    "\n",
    "$$\n",
    "4x + y - 2z + 3w + 2v = 8\n",
    "$$\n",
    "\n",
    "$$\n",
    "x + y + z + w + v = 7\n",
    "$$\n",
    "\n",
    "2. Calcule el valor del número de Euler o constante de Napier $e = 2,71828$ como:\n",
    "\n",
    "$$e = \\sum_i ^{\\infty} \\frac{1}{n!}$$\n",
    "\n",
    "  ¿Qué precisión en términos de el número de términos necesita para dar cuenta de los primeros 5 números de la coma decimal? **18 pts**\n",
    "\n",
    "3. Escriba el polinomio característico de la matriz en una celda de texto, déje registrado en una de código cómo obtuvo los valores característicos.  **16 pts**\n",
    "\n",
    "$$\n",
    "\\begin{pmatrix}\n",
    "2 & 1 & 1 \\\\\n",
    "4 & 3 & 2 \\\\\n",
    "1 & 1 & 2 \\\\\n",
    "\\end{pmatrix}\n",
    "$$\n",
    "\n"
   ]
  },
  {
   "cell_type": "code",
   "execution_count": null,
   "metadata": {
    "id": "8gu89-aP5ibM"
   },
   "outputs": [],
   "source": []
  }
 ],
 "metadata": {
  "colab": {
   "authorship_tag": "ABX9TyNp43/SZCmSpHBLeSuDP/uS",
   "provenance": []
  },
  "kernelspec": {
   "display_name": "Python 3 (ipykernel)",
   "language": "python",
   "name": "python3"
  },
  "language_info": {
   "codemirror_mode": {
    "name": "ipython",
    "version": 3
   },
   "file_extension": ".py",
   "mimetype": "text/x-python",
   "name": "python",
   "nbconvert_exporter": "python",
   "pygments_lexer": "ipython3",
   "version": "3.10.6"
  }
 },
 "nbformat": 4,
 "nbformat_minor": 4
}
